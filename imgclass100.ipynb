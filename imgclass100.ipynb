{
  "cells": [
    {
      "cell_type": "code",
      "execution_count": null,
      "metadata": {
        "colab": {
          "base_uri": "https://localhost:8080/"
        },
        "id": "TStKkfqVyNd6",
        "outputId": "aece82c2-c10c-4538-9b86-b32580122c29"
      },
      "outputs": [
        {
          "name": "stdout",
          "output_type": "stream",
          "text": [
            "Requirement already satisfied: numpy in /usr/local/lib/python3.10/dist-packages (1.25.2)\n",
            "Requirement already satisfied: matplotlib in /usr/local/lib/python3.10/dist-packages (3.7.1)\n",
            "Requirement already satisfied: contourpy>=1.0.1 in /usr/local/lib/python3.10/dist-packages (from matplotlib) (1.2.1)\n",
            "Requirement already satisfied: cycler>=0.10 in /usr/local/lib/python3.10/dist-packages (from matplotlib) (0.12.1)\n",
            "Requirement already satisfied: fonttools>=4.22.0 in /usr/local/lib/python3.10/dist-packages (from matplotlib) (4.53.1)\n",
            "Requirement already satisfied: kiwisolver>=1.0.1 in /usr/local/lib/python3.10/dist-packages (from matplotlib) (1.4.5)\n",
            "Requirement already satisfied: numpy>=1.20 in /usr/local/lib/python3.10/dist-packages (from matplotlib) (1.25.2)\n",
            "Requirement already satisfied: packaging>=20.0 in /usr/local/lib/python3.10/dist-packages (from matplotlib) (24.1)\n",
            "Requirement already satisfied: pillow>=6.2.0 in /usr/local/lib/python3.10/dist-packages (from matplotlib) (9.4.0)\n",
            "Requirement already satisfied: pyparsing>=2.3.1 in /usr/local/lib/python3.10/dist-packages (from matplotlib) (3.1.2)\n",
            "Requirement already satisfied: python-dateutil>=2.7 in /usr/local/lib/python3.10/dist-packages (from matplotlib) (2.8.2)\n",
            "Requirement already satisfied: six>=1.5 in /usr/local/lib/python3.10/dist-packages (from python-dateutil>=2.7->matplotlib) (1.16.0)\n",
            "Requirement already satisfied: opencv-python in /usr/local/lib/python3.10/dist-packages (4.10.0.84)\n",
            "Requirement already satisfied: numpy>=1.21.2 in /usr/local/lib/python3.10/dist-packages (from opencv-python) (1.25.2)\n",
            "Requirement already satisfied: tensorflow in /usr/local/lib/python3.10/dist-packages (2.15.0)\n",
            "Requirement already satisfied: absl-py>=1.0.0 in /usr/local/lib/python3.10/dist-packages (from tensorflow) (1.4.0)\n",
            "Requirement already satisfied: astunparse>=1.6.0 in /usr/local/lib/python3.10/dist-packages (from tensorflow) (1.6.3)\n",
            "Requirement already satisfied: flatbuffers>=23.5.26 in /usr/local/lib/python3.10/dist-packages (from tensorflow) (24.3.25)\n",
            "Requirement already satisfied: gast!=0.5.0,!=0.5.1,!=0.5.2,>=0.2.1 in /usr/local/lib/python3.10/dist-packages (from tensorflow) (0.6.0)\n",
            "Requirement already satisfied: google-pasta>=0.1.1 in /usr/local/lib/python3.10/dist-packages (from tensorflow) (0.2.0)\n",
            "Requirement already satisfied: h5py>=2.9.0 in /usr/local/lib/python3.10/dist-packages (from tensorflow) (3.11.0)\n",
            "Requirement already satisfied: libclang>=13.0.0 in /usr/local/lib/python3.10/dist-packages (from tensorflow) (18.1.1)\n",
            "Requirement already satisfied: ml-dtypes~=0.2.0 in /usr/local/lib/python3.10/dist-packages (from tensorflow) (0.2.0)\n",
            "Requirement already satisfied: numpy<2.0.0,>=1.23.5 in /usr/local/lib/python3.10/dist-packages (from tensorflow) (1.25.2)\n",
            "Requirement already satisfied: opt-einsum>=2.3.2 in /usr/local/lib/python3.10/dist-packages (from tensorflow) (3.3.0)\n",
            "Requirement already satisfied: packaging in /usr/local/lib/python3.10/dist-packages (from tensorflow) (24.1)\n",
            "Requirement already satisfied: protobuf!=4.21.0,!=4.21.1,!=4.21.2,!=4.21.3,!=4.21.4,!=4.21.5,<5.0.0dev,>=3.20.3 in /usr/local/lib/python3.10/dist-packages (from tensorflow) (3.20.3)\n",
            "Requirement already satisfied: setuptools in /usr/local/lib/python3.10/dist-packages (from tensorflow) (71.0.4)\n",
            "Requirement already satisfied: six>=1.12.0 in /usr/local/lib/python3.10/dist-packages (from tensorflow) (1.16.0)\n",
            "Requirement already satisfied: termcolor>=1.1.0 in /usr/local/lib/python3.10/dist-packages (from tensorflow) (2.4.0)\n",
            "Requirement already satisfied: typing-extensions>=3.6.6 in /usr/local/lib/python3.10/dist-packages (from tensorflow) (4.12.2)\n",
            "Requirement already satisfied: wrapt<1.15,>=1.11.0 in /usr/local/lib/python3.10/dist-packages (from tensorflow) (1.14.1)\n",
            "Requirement already satisfied: tensorflow-io-gcs-filesystem>=0.23.1 in /usr/local/lib/python3.10/dist-packages (from tensorflow) (0.37.1)\n",
            "Requirement already satisfied: grpcio<2.0,>=1.24.3 in /usr/local/lib/python3.10/dist-packages (from tensorflow) (1.64.1)\n",
            "Requirement already satisfied: tensorboard<2.16,>=2.15 in /usr/local/lib/python3.10/dist-packages (from tensorflow) (2.15.2)\n",
            "Requirement already satisfied: tensorflow-estimator<2.16,>=2.15.0 in /usr/local/lib/python3.10/dist-packages (from tensorflow) (2.15.0)\n",
            "Requirement already satisfied: keras<2.16,>=2.15.0 in /usr/local/lib/python3.10/dist-packages (from tensorflow) (2.15.0)\n",
            "Requirement already satisfied: wheel<1.0,>=0.23.0 in /usr/local/lib/python3.10/dist-packages (from astunparse>=1.6.0->tensorflow) (0.43.0)\n",
            "Requirement already satisfied: google-auth<3,>=1.6.3 in /usr/local/lib/python3.10/dist-packages (from tensorboard<2.16,>=2.15->tensorflow) (2.27.0)\n",
            "Requirement already satisfied: google-auth-oauthlib<2,>=0.5 in /usr/local/lib/python3.10/dist-packages (from tensorboard<2.16,>=2.15->tensorflow) (1.2.1)\n",
            "Requirement already satisfied: markdown>=2.6.8 in /usr/local/lib/python3.10/dist-packages (from tensorboard<2.16,>=2.15->tensorflow) (3.6)\n",
            "Requirement already satisfied: requests<3,>=2.21.0 in /usr/local/lib/python3.10/dist-packages (from tensorboard<2.16,>=2.15->tensorflow) (2.31.0)\n",
            "Requirement already satisfied: tensorboard-data-server<0.8.0,>=0.7.0 in /usr/local/lib/python3.10/dist-packages (from tensorboard<2.16,>=2.15->tensorflow) (0.7.2)\n",
            "Requirement already satisfied: werkzeug>=1.0.1 in /usr/local/lib/python3.10/dist-packages (from tensorboard<2.16,>=2.15->tensorflow) (3.0.3)\n",
            "Requirement already satisfied: cachetools<6.0,>=2.0.0 in /usr/local/lib/python3.10/dist-packages (from google-auth<3,>=1.6.3->tensorboard<2.16,>=2.15->tensorflow) (5.4.0)\n",
            "Requirement already satisfied: pyasn1-modules>=0.2.1 in /usr/local/lib/python3.10/dist-packages (from google-auth<3,>=1.6.3->tensorboard<2.16,>=2.15->tensorflow) (0.4.0)\n",
            "Requirement already satisfied: rsa<5,>=3.1.4 in /usr/local/lib/python3.10/dist-packages (from google-auth<3,>=1.6.3->tensorboard<2.16,>=2.15->tensorflow) (4.9)\n",
            "Requirement already satisfied: requests-oauthlib>=0.7.0 in /usr/local/lib/python3.10/dist-packages (from google-auth-oauthlib<2,>=0.5->tensorboard<2.16,>=2.15->tensorflow) (1.3.1)\n",
            "Requirement already satisfied: charset-normalizer<4,>=2 in /usr/local/lib/python3.10/dist-packages (from requests<3,>=2.21.0->tensorboard<2.16,>=2.15->tensorflow) (3.3.2)\n",
            "Requirement already satisfied: idna<4,>=2.5 in /usr/local/lib/python3.10/dist-packages (from requests<3,>=2.21.0->tensorboard<2.16,>=2.15->tensorflow) (3.7)\n",
            "Requirement already satisfied: urllib3<3,>=1.21.1 in /usr/local/lib/python3.10/dist-packages (from requests<3,>=2.21.0->tensorboard<2.16,>=2.15->tensorflow) (2.0.7)\n",
            "Requirement already satisfied: certifi>=2017.4.17 in /usr/local/lib/python3.10/dist-packages (from requests<3,>=2.21.0->tensorboard<2.16,>=2.15->tensorflow) (2024.7.4)\n",
            "Requirement already satisfied: MarkupSafe>=2.1.1 in /usr/local/lib/python3.10/dist-packages (from werkzeug>=1.0.1->tensorboard<2.16,>=2.15->tensorflow) (2.1.5)\n",
            "Requirement already satisfied: pyasn1<0.7.0,>=0.4.6 in /usr/local/lib/python3.10/dist-packages (from pyasn1-modules>=0.2.1->google-auth<3,>=1.6.3->tensorboard<2.16,>=2.15->tensorflow) (0.6.0)\n",
            "Requirement already satisfied: oauthlib>=3.0.0 in /usr/local/lib/python3.10/dist-packages (from requests-oauthlib>=0.7.0->google-auth-oauthlib<2,>=0.5->tensorboard<2.16,>=2.15->tensorflow) (3.2.2)\n"
          ]
        }
      ],
      "source": [
        "!pip install numpy\n",
        "!pip install matplotlib\n",
        "!pip install opencv-python\n",
        "! pip install tensorflow"
      ]
    },
    {
      "cell_type": "code",
      "execution_count": null,
      "metadata": {
        "colab": {
          "base_uri": "https://localhost:8080/"
        },
        "id": "9NCSfsY9ydRQ",
        "outputId": "188b0080-12cd-4f0d-9c00-1810f0c9ea21"
      },
      "outputs": [
        {
          "name": "stdout",
          "output_type": "stream",
          "text": [
            "Downloading data from https://www.cs.toronto.edu/~kriz/cifar-100-python.tar.gz\n",
            "169001437/169001437 [==============================] - 10s 0us/step\n"
          ]
        }
      ],
      "source": [
        "import cv2 as cv\n",
        "import numpy as np\n",
        "import tensorflow as tf\n",
        "import matplotlib.pyplot as plt\n",
        "from tensorflow.keras import datasets, layers, models\n",
        "(training_images, training_labels),(testing_images, test_labels)=datasets.cifar100.load_data()\n",
        "trainng_images,testing_images = training_images/255.0 , testing_images/255.0"
      ]
    },
    {
      "cell_type": "code",
      "execution_count": null,
      "metadata": {
        "id": "bdAxyZE7y9b_"
      },
      "outputs": [],
      "source": [
        "# prompt: make a subclass and class list according to cifar100\n",
        "\n",
        "# CIFAR-100 dataset has 100 classes, with 10 superclasses\n",
        "superclass_names = [\n",
        "    'aquatic mammals',\n",
        "    'fish',\n",
        "    'flowers',\n",
        "    'food containers',\n",
        "    'fruit and vegetables',\n",
        "    'household electrical devices',\n",
        "    'household furniture',\n",
        "    'insects',\n",
        "    'large carnivores',\n",
        "    'large man-made outdoor things',\n",
        "    'large natural outdoor scenes',\n",
        "    'large omnivores and herbivores',\n",
        "    'medium-sized mammals',\n",
        "    'non-insect invertebrates',\n",
        "    'people',\n",
        "    'reptiles',\n",
        "    'small mammals',\n",
        "    'trees',\n",
        "    'vehicles 1',\n",
        "    'vehicles 2'\n",
        "]\n",
        "\n",
        "class_names = [\n",
        "    'beaver', 'dolphin', 'otter', 'seal', 'whale',\n",
        "    'aquarium fish', 'flatfish', 'ray', 'shark', 'trout',\n",
        "    'orchids', 'poppies', 'roses', 'sunflowers', 'tulips',\n",
        "    'bottles', 'bowls', 'cans', 'cups', 'plates',\n",
        "    'apples', 'mushrooms', 'oranges', 'pears', 'sweet peppers',\n",
        "    'clock', 'computer keyboard', 'lamp', 'telephone', 'television',\n",
        "    'bed', 'chair', 'couch', 'table', 'wardrobe',\n",
        "    'bee', 'beetle', 'butterfly', 'caterpillar', 'cockroach',\n",
        "    'bear', 'leopard', 'lion', 'tiger', 'wolf',\n",
        "    'bridge', 'castle', 'house', 'road', 'skyscraper',\n",
        "    'cloud', 'forest', 'mountain', 'plain', 'sea',\n",
        "    'camel', 'cattle', 'chimpanzee', 'elephant', 'kangaroo',\n",
        "    'fox', 'porcupine', 'possum', 'raccoon', 'skunk',\n",
        "    'crab', 'lobster', 'snail', 'spider', 'worm',\n",
        "    'baby', 'boy', 'girl', 'man', 'woman',\n",
        "    'crocodile', 'dinosaur', 'lizard', 'snake', 'turtle',\n",
        "    'hamster', 'mouse', 'rabbit', 'shrew', 'squirrel',\n",
        "    'maple', 'oak', 'palm', 'pine', 'willow',\n",
        "    'bicycle', 'bus', 'motorcycle', 'pickup truck', 'train',\n",
        "    'lawn-mower', 'rocket', 'streetcar', 'tank', 'tractor'\n",
        "]\n",
        "\n",
        "# Create a dictionary mapping superclass index to subclass indices\n",
        "subclass_mapping = {}\n",
        "for i, superclass in enumerate(superclass_names):\n",
        "    subclass_mapping[i] = [j for j, class_name in enumerate(class_names) if class_name in class_names[i*5:(i+1)*5]]\n"
      ]
    },
    {
      "cell_type": "code",
      "execution_count": null,
      "metadata": {
        "id": "O5BaDh0ZzdeZ"
      },
      "outputs": [],
      "source": [
        "import tensorflow as tf\n",
        "from tensorflow.keras import layers, models\n",
        "\n",
        "# Load your data (training_images, training_labels, testing_images, test_labels)\n",
        "\n",
        "# Data augmentation\n",
        "datagen = tf.keras.preprocessing.image.ImageDataGenerator(\n",
        "    rotation_range=20,\n",
        "    width_shift_range=0.2,\n",
        "    height_shift_range=0.2,\n",
        "    shear_range=0.2,\n",
        "    zoom_range=0.2,\n",
        "    horizontal_flip=True,\n",
        "    fill_mode='nearest'\n",
        ")\n"
      ]
    },
    {
      "cell_type": "code",
      "execution_count": null,
      "metadata": {
        "colab": {
          "base_uri": "https://localhost:8080/"
        },
        "id": "EfbA7NoL0jVm",
        "outputId": "24fa9c4d-423f-44e4-9f65-bad090692fce"
      },
      "outputs": [
        {
          "name": "stdout",
          "output_type": "stream",
          "text": [
            "Epoch 1/15\n",
            "6250/6250 [==============================] - 31s 5ms/step - loss: 4.3073 - accuracy: 0.0506\n",
            "Epoch 2/15\n",
            "6250/6250 [==============================] - 29s 5ms/step - loss: 3.8034 - accuracy: 0.1197\n",
            "Epoch 3/15\n",
            "6250/6250 [==============================] - 29s 5ms/step - loss: 3.5863 - accuracy: 0.1568\n",
            "Epoch 4/15\n",
            "6250/6250 [==============================] - 28s 5ms/step - loss: 3.4697 - accuracy: 0.1772\n",
            "Epoch 5/15\n",
            "6250/6250 [==============================] - 29s 5ms/step - loss: 3.7082 - accuracy: 0.1432\n",
            "Epoch 6/15\n",
            "6250/6250 [==============================] - 29s 5ms/step - loss: 3.6744 - accuracy: 0.1466\n",
            "Epoch 7/15\n",
            "6250/6250 [==============================] - 29s 5ms/step - loss: 3.5562 - accuracy: 0.1681\n",
            "Epoch 8/15\n",
            "6250/6250 [==============================] - 29s 5ms/step - loss: 3.3109 - accuracy: 0.2082\n",
            "Epoch 9/15\n",
            "6250/6250 [==============================] - 29s 5ms/step - loss: 3.1938 - accuracy: 0.2265\n",
            "Epoch 10/15\n",
            "6250/6250 [==============================] - 28s 5ms/step - loss: 3.1290 - accuracy: 0.2416\n",
            "Epoch 11/15\n",
            "6250/6250 [==============================] - 28s 5ms/step - loss: 3.0790 - accuracy: 0.2541\n",
            "Epoch 12/15\n",
            "6250/6250 [==============================] - 29s 5ms/step - loss: 3.0087 - accuracy: 0.2665\n",
            "Epoch 13/15\n",
            "6250/6250 [==============================] - 29s 5ms/step - loss: 2.9581 - accuracy: 0.2770\n",
            "Epoch 14/15\n",
            "6250/6250 [==============================] - 29s 5ms/step - loss: 2.9067 - accuracy: 0.2894\n",
            "Epoch 15/15\n",
            "6250/6250 [==============================] - 29s 5ms/step - loss: 2.7833 - accuracy: 0.3110\n",
            "313/313 [==============================] - 1s 4ms/step - loss: 15.0020 - accuracy: 0.0106\n",
            "Test accuracy: 0.010599999688565731\n"
          ]
        }
      ],
      "source": [
        "# Define the model architecture\n",
        "model = models.Sequential()\n",
        "model.add(layers.Conv2D(128, (3, 3), activation='relu', input_shape=(32, 32, 3)))\n",
        "model.add(layers.MaxPooling2D((2, 2)))  # Reduce pool size\n",
        "model.add(layers.Conv2D(256, (3, 3), activation='relu'))\n",
        "model.add(layers.MaxPooling2D((2, 2)))  # Reduce pool size\n",
        "model.add(layers.Conv2D(512, (3, 3), activation='relu'))\n",
        "model.add(layers.Flatten())\n",
        "model.add(layers.Dense(256, activation='relu'))\n",
        "model.add(layers.Dense(100, activation='softmax'))  # 100 output classes for CIFAR-100\n",
        "\n",
        "# Compile the model\n",
        "model.compile(optimizer='adam',\n",
        "              loss='sparse_categorical_crossentropy',\n",
        "              metrics=['accuracy'])\n",
        "\n",
        "# Train the model\n",
        "model.fit(training_images, training_labels, batch_size =8, epochs=15)  # Adjust epochs as needed\n",
        "\n",
        "# Evaluate the model\n",
        "test_loss, test_acc = model.evaluate(testing_images, test_labels)\n",
        "print('Test accuracy:', test_acc)"
      ]
    },
    {
      "cell_type": "code",
      "execution_count": null,
      "metadata": {
        "id": "cL1laPVj1rwe"
      },
      "outputs": [],
      "source": [
        "model.save('image_classifier.keras')"
      ]
    },
    {
      "cell_type": "code",
      "execution_count": null,
      "metadata": {
        "id": "YanpSoP60B80"
      },
      "outputs": [],
      "source": [
        "model =models.load_model('image_classifier.keras')\n",
        "\n",
        "#img=cv.imread('#image path')\n",
        "img=cv.cvtColor(img,cv.COLOR_BGR2RGB)\n",
        "img=cv.resize(img,(32,32))\n",
        "plt.imshow(img,cmap=plt.cm.binary)\n",
        "\n",
        "prediction = model.predict(np.array([img]))\n",
        "#prediction = model.predict(np.array([img])/255)\n",
        "index=np.argmax(prediction)\n",
        "print(f'Prediction is {class_names[index]}')\n",
        "\n",
        "plt.show()\n",
        "\n",
        "\n",
        "print(\"Hii from Diptajit\")"
      ]
    }
  ],
  "metadata": {
    "accelerator": "GPU",
    "colab": {
      "gpuType": "T4",
      "provenance": []
    },
    "kernelspec": {
      "display_name": "Python 3",
      "name": "python3"
    },
    "language_info": {
      "name": "python"
    }
  },
  "nbformat": 4,
  "nbformat_minor": 0
}
